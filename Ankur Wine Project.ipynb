{
 "cells": [
  {
   "cell_type": "markdown",
   "metadata": {},
   "source": [
    "# Program that predicts a wine quality"
   ]
  },
  {
   "cell_type": "code",
   "execution_count": 83,
   "metadata": {},
   "outputs": [],
   "source": [
    "import numpy as np\n",
    "import pandas as pd\n",
    "import matplotlib.pyplot as plt\n",
    "import seaborn as sns"
   ]
  },
  {
   "cell_type": "code",
   "execution_count": null,
   "metadata": {},
   "outputs": [],
   "source": [
    "wine = pd.read_csv(\"winedataset.csv\")\n",
    "wine.head()"
   ]
  },
  {
   "cell_type": "code",
   "execution_count": null,
   "metadata": {},
   "outputs": [],
   "source": [
    "wine.shape"
   ]
  },
  {
   "cell_type": "code",
   "execution_count": null,
   "metadata": {},
   "outputs": [],
   "source": [
    "wine.dtypes"
   ]
  },
  {
   "cell_type": "code",
   "execution_count": null,
   "metadata": {},
   "outputs": [],
   "source": [
    "wine.describe()"
   ]
  },
  {
   "cell_type": "code",
   "execution_count": null,
   "metadata": {},
   "outputs": [],
   "source": [
    "wine.info()"
   ]
  },
  {
   "cell_type": "code",
   "execution_count": null,
   "metadata": {},
   "outputs": [],
   "source": [
    "wine.columns"
   ]
  },
  {
   "cell_type": "code",
   "execution_count": null,
   "metadata": {},
   "outputs": [],
   "source": [
    "# There was a weird name for Proline with a lot of spaces trailing it, removing it.\n",
    "wine.rename(columns={'Proline    ': 'Proline'}, inplace=True)\n",
    "print(wine.columns)"
   ]
  },
  {
   "cell_type": "code",
   "execution_count": null,
   "metadata": {},
   "outputs": [],
   "source": [
    "cols = ['Alcohol', 'Malic acid', 'Ash', 'Alcalinity of ash',\n",
    "       'Magnesium', 'Total phenols', 'Flavanoids', 'Nonflavanoid phenols',\n",
    "       'Proanthocyanins', 'Color intensity', 'Hue', 'diluted wines',\n",
    "       'Proline']\n",
    "nrow=4\n",
    "ncol=4\n",
    "fig, axs = plt.subplots(nrow,ncol,figsize=(20,20))\n",
    "for i in range(nrow):\n",
    "    for j in range(ncol):\n",
    "        ax = axs[i][j]\n",
    "        r = i*ncol+j\n",
    "        if r < (nrow*ncol):\n",
    "            #sns.countplot(wine[cols[r]], hue=wine['Class'],ax=ax)\n",
    "            sns.boxplot(wine[cols[r]],ax=ax, orient='v')\n",
    "plt.tight_layout()"
   ]
  },
  {
   "cell_type": "code",
   "execution_count": null,
   "metadata": {},
   "outputs": [],
   "source": [
    "nrow=4\n",
    "ncol=4\n",
    "fig, axs = plt.subplots(nrow,ncol,figsize=(20,20))\n",
    "for i in range(nrow):\n",
    "    for j in range(ncol):\n",
    "        ax = axs[i][j]\n",
    "        r = i*ncol+j\n",
    "        if r < (nrow*ncol):\n",
    "            sns.countplot(wine[cols[r]], hue=wine['Class'],ax=ax)\n",
    "            #sns.boxplot(wine[cols[r]],ax=ax, orient='v')\n",
    "plt.tight_layout()"
   ]
  },
  {
   "cell_type": "code",
   "execution_count": null,
   "metadata": {},
   "outputs": [],
   "source": [
    "# Correlation among columns\n",
    "corr = wine.corr()\n",
    "corr['Class'].sort_values(ascending=False)"
   ]
  },
  {
   "cell_type": "code",
   "execution_count": null,
   "metadata": {},
   "outputs": [],
   "source": [
    "plt.figure(figsize=(10,10))\n",
    "sns.heatmap(corr,annot=True, linewidth=0)"
   ]
  },
  {
   "cell_type": "code",
   "execution_count": null,
   "metadata": {},
   "outputs": [],
   "source": [
    "# Checking null values\n",
    "wine.isnull().sum()"
   ]
  },
  {
   "cell_type": "code",
   "execution_count": null,
   "metadata": {},
   "outputs": [],
   "source": [
    "# Reaming all the columns to make it consistent and without blank spaces.\n",
    "wine.rename(columns = {'Class': 'class', 'Alcohol': 'alcohol', 'Malic acid': 'malic_acid', 'Ash': 'ash', \n",
    "        'Alcalinity of ash': 'alcalinity_of_ash','Magnesium': 'magnesium' , 'Total phenols': 'total_phenols',\n",
    "        'Flavanoids': 'flavanoids' ,'Nonflavanoid phenols': 'nonflavanoid_phenols', 'Proanthocyanins': 'proanthocyanins', \n",
    "        'Color intensity': 'color_intensity','Hue': 'hue' , 'diluted wines': 'diluted_wines', 'Proline': 'proline'}\n",
    "        , inplace=True)\n",
    "wine.head()"
   ]
  },
  {
   "cell_type": "code",
   "execution_count": null,
   "metadata": {},
   "outputs": [],
   "source": [
    "wine['class'].unique()"
   ]
  },
  {
   "cell_type": "code",
   "execution_count": null,
   "metadata": {},
   "outputs": [],
   "source": [
    "# see how many counts are there for each wine class\n",
    "wine['class'].value_counts()"
   ]
  },
  {
   "cell_type": "code",
   "execution_count": null,
   "metadata": {},
   "outputs": [],
   "source": [
    "# create a list of our conditions\n",
    "conditions = [\n",
    "    (wine['class'] == 1), \n",
    "    (wine['class'] == 2), \n",
    "    (wine['class'] == 3)\n",
    "    ]\n",
    "\n",
    "# create a list of the values we want to assign for each condition\n",
    "values = ['tier_1', 'tier_2', 'tier_3']\n",
    "\n",
    "# create a new column and use np.select to assign values to it using our lists as arguments\n",
    "wine['quality'] = np.select(conditions, values)\n",
    "wine.head()"
   ]
  },
  {
   "cell_type": "code",
   "execution_count": null,
   "metadata": {},
   "outputs": [],
   "source": [
    "plt.scatter(wine['class'], wine['alcohol'])"
   ]
  },
  {
   "cell_type": "code",
   "execution_count": 69,
   "metadata": {},
   "outputs": [
    {
     "data": {
      "text/html": [
       "<div>\n",
       "<style scoped>\n",
       "    .dataframe tbody tr th:only-of-type {\n",
       "        vertical-align: middle;\n",
       "    }\n",
       "\n",
       "    .dataframe tbody tr th {\n",
       "        vertical-align: top;\n",
       "    }\n",
       "\n",
       "    .dataframe thead th {\n",
       "        text-align: right;\n",
       "    }\n",
       "</style>\n",
       "<table border=\"1\" class=\"dataframe\">\n",
       "  <thead>\n",
       "    <tr style=\"text-align: right;\">\n",
       "      <th></th>\n",
       "      <th>alcohol</th>\n",
       "      <th>malic_acid</th>\n",
       "      <th>ash</th>\n",
       "      <th>alcalinity_of_ash</th>\n",
       "      <th>magnesium</th>\n",
       "      <th>total_phenols</th>\n",
       "      <th>flavanoids</th>\n",
       "      <th>nonflavanoid_phenols</th>\n",
       "      <th>proanthocyanins</th>\n",
       "      <th>color_intensity</th>\n",
       "      <th>hue</th>\n",
       "      <th>diluted_wines</th>\n",
       "      <th>proline</th>\n",
       "    </tr>\n",
       "  </thead>\n",
       "  <tbody>\n",
       "    <tr>\n",
       "      <th>0</th>\n",
       "      <td>14.23</td>\n",
       "      <td>1.71</td>\n",
       "      <td>2.43</td>\n",
       "      <td>15.6</td>\n",
       "      <td>127</td>\n",
       "      <td>2.80</td>\n",
       "      <td>3.06</td>\n",
       "      <td>0.28</td>\n",
       "      <td>2.29</td>\n",
       "      <td>5.64</td>\n",
       "      <td>1.04</td>\n",
       "      <td>3.92</td>\n",
       "      <td>1065</td>\n",
       "    </tr>\n",
       "    <tr>\n",
       "      <th>1</th>\n",
       "      <td>13.20</td>\n",
       "      <td>1.78</td>\n",
       "      <td>2.14</td>\n",
       "      <td>11.2</td>\n",
       "      <td>100</td>\n",
       "      <td>2.65</td>\n",
       "      <td>2.76</td>\n",
       "      <td>0.26</td>\n",
       "      <td>1.28</td>\n",
       "      <td>4.38</td>\n",
       "      <td>1.05</td>\n",
       "      <td>3.40</td>\n",
       "      <td>1050</td>\n",
       "    </tr>\n",
       "    <tr>\n",
       "      <th>2</th>\n",
       "      <td>13.16</td>\n",
       "      <td>2.36</td>\n",
       "      <td>2.67</td>\n",
       "      <td>18.6</td>\n",
       "      <td>101</td>\n",
       "      <td>2.80</td>\n",
       "      <td>3.24</td>\n",
       "      <td>0.30</td>\n",
       "      <td>2.81</td>\n",
       "      <td>5.68</td>\n",
       "      <td>1.03</td>\n",
       "      <td>3.17</td>\n",
       "      <td>1185</td>\n",
       "    </tr>\n",
       "    <tr>\n",
       "      <th>3</th>\n",
       "      <td>14.37</td>\n",
       "      <td>1.95</td>\n",
       "      <td>2.50</td>\n",
       "      <td>16.8</td>\n",
       "      <td>113</td>\n",
       "      <td>3.85</td>\n",
       "      <td>3.49</td>\n",
       "      <td>0.24</td>\n",
       "      <td>2.18</td>\n",
       "      <td>7.80</td>\n",
       "      <td>0.86</td>\n",
       "      <td>3.45</td>\n",
       "      <td>1480</td>\n",
       "    </tr>\n",
       "    <tr>\n",
       "      <th>4</th>\n",
       "      <td>13.24</td>\n",
       "      <td>2.59</td>\n",
       "      <td>2.87</td>\n",
       "      <td>21.0</td>\n",
       "      <td>118</td>\n",
       "      <td>2.80</td>\n",
       "      <td>2.69</td>\n",
       "      <td>0.39</td>\n",
       "      <td>1.82</td>\n",
       "      <td>4.32</td>\n",
       "      <td>1.04</td>\n",
       "      <td>2.93</td>\n",
       "      <td>735</td>\n",
       "    </tr>\n",
       "  </tbody>\n",
       "</table>\n",
       "</div>"
      ],
      "text/plain": [
       "   alcohol  malic_acid   ash  alcalinity_of_ash  magnesium  total_phenols  \\\n",
       "0    14.23        1.71  2.43               15.6        127           2.80   \n",
       "1    13.20        1.78  2.14               11.2        100           2.65   \n",
       "2    13.16        2.36  2.67               18.6        101           2.80   \n",
       "3    14.37        1.95  2.50               16.8        113           3.85   \n",
       "4    13.24        2.59  2.87               21.0        118           2.80   \n",
       "\n",
       "   flavanoids  nonflavanoid_phenols  proanthocyanins  color_intensity   hue  \\\n",
       "0        3.06                  0.28             2.29             5.64  1.04   \n",
       "1        2.76                  0.26             1.28             4.38  1.05   \n",
       "2        3.24                  0.30             2.81             5.68  1.03   \n",
       "3        3.49                  0.24             2.18             7.80  0.86   \n",
       "4        2.69                  0.39             1.82             4.32  1.04   \n",
       "\n",
       "   diluted_wines  proline  \n",
       "0           3.92     1065  \n",
       "1           3.40     1050  \n",
       "2           3.17     1185  \n",
       "3           3.45     1480  \n",
       "4           2.93      735  "
      ]
     },
     "execution_count": 69,
     "metadata": {},
     "output_type": "execute_result"
    }
   ],
   "source": [
    "x = wine.drop(['class', 'quality'], axis=\"columns\")\n",
    "y = wine['class']\n",
    "x.head()"
   ]
  },
  {
   "cell_type": "code",
   "execution_count": 94,
   "metadata": {},
   "outputs": [
    {
     "name": "stdout",
     "output_type": "stream",
     "text": [
      "0    1\n",
      "1    1\n",
      "2    1\n",
      "3    1\n",
      "4    1\n",
      "Name: class, dtype: int64\n"
     ]
    }
   ],
   "source": [
    "print(y.head())\n",
    "from sklearn.model_selection import cross_val_score, train_test_split\n",
    "from sklearn.pipeline import make_pipeline\n",
    "from sklearn.preprocessing import StandardScaler\n",
    "from sklearn.metrics import accuracy_score\n",
    "from sklearn.neighbors import KNeighborsClassifier\n",
    "from sklearn.tree import DecisionTreeClassifier\n",
    "from sklearn.ensemble import RandomForestClassifier\n",
    "from sklearn.ensemble import ExtraTreesClassifier\n",
    "from sklearn.svm import SVC"
   ]
  },
  {
   "cell_type": "code",
   "execution_count": 107,
   "metadata": {},
   "outputs": [],
   "source": [
    "def classify(model, x, y):\n",
    "    x_train, x_test, y_train, y_test = train_test_split(x,y,test_size=.3, random_state=101)\n",
    "    # Model training\n",
    "    model.fit(x_train, y_train)\n",
    "    print(\"Accuracy score is:\",model.score(x_train, y_train))\n",
    "    #Cross validation\n",
    "    score = cross_val_score(model, x,y, cv=5)\n",
    "    print(\"Cross validation score is:\",np.mean(score))\n",
    "    return np.mean(score)"
   ]
  },
  {
   "cell_type": "code",
   "execution_count": 109,
   "metadata": {},
   "outputs": [
    {
     "name": "stdout",
     "output_type": "stream",
     "text": [
      "Accuracy score is: 1.0\n",
      "Cross validation score is: 0.8985714285714286\n",
      "Accuracy score is: 0.8145161290322581\n",
      "Cross validation score is: 0.6912698412698413\n",
      "Accuracy score is: 1.0\n",
      "Cross validation score is: 0.9888888888888889\n",
      "Accuracy score is: 0.7580645161290323\n",
      "Cross validation score is: 0.6634920634920635\n",
      "Accuracy score is: 0.6612903225806451\n",
      "Cross validation score is: 0.6522222222222223\n",
      "Accuracy score is: 0.9919354838709677\n",
      "Cross validation score is: 0.961111111111111\n",
      "Accuracy score is: 0.1935483870967742\n",
      "Cross validation score is: 0.1638095238095238\n"
     ]
    }
   ],
   "source": [
    "model1 = DecisionTreeClassifier()\n",
    "model2 = KNeighborsClassifier()\n",
    "model3 = ExtraTreesClassifier()\n",
    "model4 = SVC(kernel='rbf')\n",
    "model5 = SVC(kernel='poly')\n",
    "model6 = SVC(kernel='linear')\n",
    "model7 = SVC(kernel='sigmoid')\n",
    "\n",
    "model = [model1, model2, model3, model4, model5, model6, model7]\n",
    "model_names = ['DecisionTree Model', 'KNN Model', 'ExtraTrees Model', 'SVC rbf Model',\n",
    "              'SVC poly Model', 'SVC linear Model', 'SVC sigmoid Model']\n",
    "c_scores = []\n",
    "for i in model:\n",
    "    c_scores.append(classify(i, x, y))"
   ]
  },
  {
   "cell_type": "code",
   "execution_count": 110,
   "metadata": {},
   "outputs": [
    {
     "data": {
      "text/plain": [
       "[0.8985714285714286,\n",
       " 0.6912698412698413,\n",
       " 0.9888888888888889,\n",
       " 0.6634920634920635,\n",
       " 0.6522222222222223,\n",
       " 0.961111111111111,\n",
       " 0.1638095238095238]"
      ]
     },
     "execution_count": 110,
     "metadata": {},
     "output_type": "execute_result"
    }
   ],
   "source": [
    "c_scores"
   ]
  },
  {
   "cell_type": "code",
   "execution_count": 112,
   "metadata": {},
   "outputs": [
    {
     "name": "stdout",
     "output_type": "stream",
     "text": [
      "Best model for wine is: ExtraTrees Model\n"
     ]
    }
   ],
   "source": [
    "print(\"Best model for wine is:\",model_names[c_scores.index(max(c_scores))])"
   ]
  },
  {
   "cell_type": "code",
   "execution_count": 116,
   "metadata": {},
   "outputs": [],
   "source": [
    "def pred(model, x, y):\n",
    "    x_train, x_test, y_train, y_test = train_test_split(x,y,test_size=.3, random_state=101)\n",
    "    # Model training\n",
    "    pred.predict(x_test)\n",
    "    print(\"Accuracy score is:\",model.score(x_test, y_test))\n",
    "    return model.score(x_test, y_test)"
   ]
  },
  {
   "cell_type": "code",
   "execution_count": 117,
   "metadata": {},
   "outputs": [
    {
     "name": "stdout",
     "output_type": "stream",
     "text": [
      "Accuracy score is: 1.0\n",
      "Cross validation score is: 0.8709523809523809\n",
      "Accuracy score is: 0.8145161290322581\n",
      "Cross validation score is: 0.6912698412698413\n",
      "Accuracy score is: 1.0\n",
      "Cross validation score is: 0.9888888888888889\n",
      "Accuracy score is: 0.7580645161290323\n",
      "Cross validation score is: 0.6634920634920635\n",
      "Accuracy score is: 0.6612903225806451\n",
      "Cross validation score is: 0.6522222222222223\n",
      "Accuracy score is: 0.9919354838709677\n",
      "Cross validation score is: 0.961111111111111\n",
      "Accuracy score is: 0.1935483870967742\n",
      "Cross validation score is: 0.1638095238095238\n"
     ]
    }
   ],
   "source": [
    "pred_scores = []\n",
    "for i in model:\n",
    "    pred_scores.append(classify(i, x, y))"
   ]
  },
  {
   "cell_type": "code",
   "execution_count": 118,
   "metadata": {},
   "outputs": [
    {
     "name": "stdout",
     "output_type": "stream",
     "text": [
      "Best model for wine is: ExtraTrees Model\n"
     ]
    }
   ],
   "source": [
    "print(\"Best model for wine is:\",model_names[pred_scores.index(max(pred_scores))])"
   ]
  },
  {
   "cell_type": "code",
   "execution_count": null,
   "metadata": {},
   "outputs": [],
   "source": []
  }
 ],
 "metadata": {
  "kernelspec": {
   "display_name": "Python 3",
   "language": "python",
   "name": "python3"
  },
  "language_info": {
   "codemirror_mode": {
    "name": "ipython",
    "version": 3
   },
   "file_extension": ".py",
   "mimetype": "text/x-python",
   "name": "python",
   "nbconvert_exporter": "python",
   "pygments_lexer": "ipython3",
   "version": "3.8.3"
  }
 },
 "nbformat": 4,
 "nbformat_minor": 4
}
